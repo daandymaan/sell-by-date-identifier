{
 "cells": [
  {
   "cell_type": "code",
   "execution_count": 24,
   "metadata": {},
   "outputs": [],
   "source": [
    "#Imports\n",
    "import cv2\n",
    "import glob\n",
    "import numpy as np \n",
    "from matplotlib import pyplot as plt \n",
    "from matplotlib import image as image\n",
    "import easygui "
   ]
  },
  {
   "cell_type": "code",
   "execution_count": 25,
   "metadata": {},
   "outputs": [],
   "source": [
    "#Global variables\n",
    "letter_to_img = {}\n",
    "letters = \"ABCDEFGJLMNOPRTUV\""
   ]
  },
  {
   "cell_type": "code",
   "execution_count": 33,
   "metadata": {},
   "outputs": [],
   "source": [
    "#Function to add all letter found in folder \"./Images/Letter-Images/*.png\" into an array of images\n",
    "#This array of images is then added to a dictionary to reference the value \n",
    "def dictOfLetters():\n",
    "    letterimages = [cv2.imread(file) for file in glob.glob(\"./Images/Letter-Images/*.png\")]\n",
    "    for index in range(0, len(letterimages)):\n",
    "        letter_to_img[letters[index]] = letterimages[index]"
   ]
  },
  {
   "cell_type": "code",
   "execution_count": 27,
   "metadata": {},
   "outputs": [],
   "source": [
    "def imageViewerPOPOUT(imagename, img):\n",
    "    print(\"Window opened!\")\n",
    "    cv2.imshow(imagename, img)\n",
    "#For manual closing of windows\n",
    "    key = cv2.waitKey(0)\n",
    "#For automatic closing of windows\n",
    "#     key = cv2.waitKey(80)\n",
    "#     cv2.destroyWindow(imagename)\n",
    "    \n",
    "    \n",
    "    print(\"Window closed\")"
   ]
  },
  {
   "cell_type": "code",
   "execution_count": 28,
   "metadata": {},
   "outputs": [],
   "source": [
    "def resizeImg(img):\n",
    "    h, w, d = img.shape\n",
    "    h1 = int(h/4)\n",
    "    w1 = int(w/4)\n",
    "    S = cv2.resize(img, dsize=(h1, w1))\n",
    "    return S"
   ]
  },
  {
   "cell_type": "code",
   "execution_count": 29,
   "metadata": {},
   "outputs": [],
   "source": [
    "def main():\n",
    "    easygui.msgbox(\"Please select a image\")\n",
    "    f = easygui.fileopenbox()\n",
    "\n",
    "    if(f == None ):\n",
    "        while(f == None):\n",
    "            print(\"Error reading in file\")\n",
    "            easygui.msgbox(\"Please select a file\")\n",
    "            f = easygui.fileopenbox()\n",
    "        \n",
    "    I = cv2.imread(f)\n",
    "    ReisizedImg = resizeImg(I)\n",
    "    imageViewerPOPOUT(\"Image selected\", ReisizedImg)"
   ]
  },
  {
   "cell_type": "code",
   "execution_count": 30,
   "metadata": {},
   "outputs": [],
   "source": [
    "def testmain():\n",
    "    dictOfLetters()"
   ]
  },
  {
   "cell_type": "code",
   "execution_count": 34,
   "metadata": {},
   "outputs": [
    {
     "name": "stdout",
     "output_type": "stream",
     "text": [
      "A\n",
      "Window opened!\n",
      "Window closed\n",
      "B\n",
      "Window opened!\n",
      "Window closed\n",
      "C\n",
      "Window opened!\n",
      "Window closed\n",
      "D\n",
      "Window opened!\n",
      "Window closed\n",
      "E\n",
      "Window opened!\n",
      "Window closed\n",
      "F\n",
      "Window opened!\n",
      "Window closed\n",
      "G\n",
      "Window opened!\n",
      "Window closed\n",
      "J\n",
      "Window opened!\n",
      "Window closed\n",
      "L\n",
      "Window opened!\n",
      "Window closed\n",
      "M\n",
      "Window opened!\n",
      "Window closed\n",
      "N\n",
      "Window opened!\n",
      "Window closed\n",
      "O\n",
      "Window opened!\n",
      "Window closed\n",
      "P\n",
      "Window opened!\n",
      "Window closed\n",
      "R\n",
      "Window opened!\n",
      "Window closed\n",
      "T\n",
      "Window opened!\n",
      "Window closed\n",
      "U\n",
      "Window opened!\n",
      "Window closed\n",
      "V\n",
      "Window opened!\n",
      "Window closed\n"
     ]
    }
   ],
   "source": [
    "#This runs when program is started\n",
    "if __name__ == \"__main__\":\n",
    "    #main()\n",
    "    testmain()\n",
    "    for letter in letters:\n",
    "        print(letter)\n",
    "        imageViewerPOPOUT(letter, letter_to_img[letter])\n",
    "        "
   ]
  },
  {
   "cell_type": "code",
   "execution_count": null,
   "metadata": {},
   "outputs": [],
   "source": []
  }
 ],
 "metadata": {
  "kernelspec": {
   "display_name": "Python 3",
   "language": "python",
   "name": "python3"
  },
  "language_info": {
   "codemirror_mode": {
    "name": "ipython",
    "version": 3
   },
   "file_extension": ".py",
   "mimetype": "text/x-python",
   "name": "python",
   "nbconvert_exporter": "python",
   "pygments_lexer": "ipython3",
   "version": "3.8.3"
  }
 },
 "nbformat": 4,
 "nbformat_minor": 4
}
