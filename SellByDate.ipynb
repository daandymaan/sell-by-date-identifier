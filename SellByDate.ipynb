{
 "cells": [
  {
   "cell_type": "code",
   "execution_count": 4,
   "metadata": {},
   "outputs": [],
   "source": [
    "#Imports\n",
    "import cv2\n",
    "import numpy as np \n",
    "from matplotlib import pyplot as plt \n",
    "from matplotlib import image as image\n",
    "import easygui "
   ]
  },
  {
   "cell_type": "code",
   "execution_count": 9,
   "metadata": {},
   "outputs": [],
   "source": [
    "def imageViewerPOPOUT(imagename, img):\n",
    "    print(\"Window opened!\")\n",
    "    cv2.imshow(imagename, img)\n",
    "    key = cv2.waitKey(0)\n",
    "#For automatic closing of windows\n",
    "#     key = cv2.waitKey(1500)\n",
    "#     cv2.destroyWindow(imagename)\n",
    "    print(\"Window closed\")"
   ]
  },
  {
   "cell_type": "code",
   "execution_count": 19,
   "metadata": {},
   "outputs": [],
   "source": [
    "def resizeImg(img):\n",
    "    h, w, d = img.shape\n",
    "    h1 = int(h/4)\n",
    "    w1 = int(w/4)\n",
    "    S = cv2.resize(img, dsize=(h1, w1))\n",
    "    return S"
   ]
  },
  {
   "cell_type": "code",
   "execution_count": 20,
   "metadata": {},
   "outputs": [],
   "source": [
    "def main():\n",
    "    easygui.msgbox(\"Please select a image\")\n",
    "    f = easygui.fileopenbox()\n",
    "\n",
    "    if(f == None ):\n",
    "        while(f == None):\n",
    "            print(\"Error reading in file\")\n",
    "            easygui.msgbox(\"Please select a file\")\n",
    "            f = easygui.fileopenbox()\n",
    "        \n",
    "    I = cv2.imread(f)\n",
    "    ReisizedImg = resizeImg(I)\n",
    "    imageViewerPOPOUT(\"Image selected\", ReisizedImg)"
   ]
  },
  {
   "cell_type": "code",
   "execution_count": 21,
   "metadata": {},
   "outputs": [
    {
     "name": "stdout",
     "output_type": "stream",
     "text": [
      "Window opened!\n",
      "Window closed\n"
     ]
    }
   ],
   "source": [
    "#This runs when program is started\n",
    "if __name__ == \"__main__\":\n",
    "    main()"
   ]
  },
  {
   "cell_type": "code",
   "execution_count": null,
   "metadata": {},
   "outputs": [],
   "source": []
  }
 ],
 "metadata": {
  "kernelspec": {
   "display_name": "Python 3",
   "language": "python",
   "name": "python3"
  },
  "language_info": {
   "codemirror_mode": {
    "name": "ipython",
    "version": 3
   },
   "file_extension": ".py",
   "mimetype": "text/x-python",
   "name": "python",
   "nbconvert_exporter": "python",
   "pygments_lexer": "ipython3",
   "version": "3.8.3"
  }
 },
 "nbformat": 4,
 "nbformat_minor": 4
}
